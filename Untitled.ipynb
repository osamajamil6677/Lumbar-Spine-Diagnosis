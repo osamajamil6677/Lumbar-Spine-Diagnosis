{
 "cells": [
  {
   "cell_type": "code",
   "execution_count": 6,
   "metadata": {},
   "outputs": [],
   "source": [
    "import numpy as np\n",
    "import pandas as pd\n",
    "import pickle\n",
    "import cv2"
   ]
  },
  {
   "cell_type": "code",
   "execution_count": 3,
   "metadata": {},
   "outputs": [],
   "source": [
    "infile = open('config.pickle','rb')\n",
    "new_dict = pickle.load(infile)\n",
    "infile.close()"
   ]
  },
  {
   "cell_type": "code",
   "execution_count": 5,
   "metadata": {},
   "outputs": [
    {
     "data": {
      "text/plain": [
       "3"
      ]
     },
     "execution_count": 5,
     "metadata": {},
     "output_type": "execute_result"
    }
   ],
   "source": [
    "len(new_dict.class_mapping)"
   ]
  },
  {
   "cell_type": "code",
   "execution_count": 6,
   "metadata": {},
   "outputs": [
    {
     "data": {
      "text/plain": [
       "{'SPD': 0, 'OK': 1, 'bg': 2}"
      ]
     },
     "execution_count": 6,
     "metadata": {},
     "output_type": "execute_result"
    }
   ],
   "source": [
    "new_dict.class_mapping"
   ]
  },
  {
   "cell_type": "code",
   "execution_count": 4,
   "metadata": {},
   "outputs": [],
   "source": [
    "bbx_df = pd.read_csv('disease_bbx.csv')"
   ]
  },
  {
   "cell_type": "code",
   "execution_count": 93,
   "metadata": {},
   "outputs": [],
   "source": [
    "thic = 2\n",
    "box_color_SPD = (102, 102, 255)\n",
    "box_color_ADB = (102, 255, 255)\n",
    "box_color_SS = (102, 255, 102)\n",
    "box_color_EPD = (255, 255, 102)\n",
    "label_color = (255, 255, 255)\n",
    "for i,j in zip(bbx_df.img_name.unique(),bbx_df.path.unique()):\n",
    "    img = cv2.imread(j)\t\n",
    "    cv2.rectangle(img,(4,4),(6,10),box_color_SPD,2)\n",
    "    cv2.rectangle(img,(4,17),(6,23),box_color_ADB,2)\n",
    "    cv2.rectangle(img,(4,29),(6,35),box_color_SS,2)\n",
    "    cv2.rectangle(img,(4,41),(6,47),box_color_EPD,2)\n",
    "    cv2.putText(img, \"SPD\", (10,11), cv2.FONT_HERSHEY_DUPLEX, 0.4, box_color_SPD)\n",
    "    cv2.putText(img, \"ADB\", (10,24), cv2.FONT_HERSHEY_DUPLEX, 0.4, box_color_ADB)\n",
    "    cv2.putText(img, \"SS\", (10,36), cv2.FONT_HERSHEY_DUPLEX, 0.4, box_color_SS)\n",
    "    cv2.putText(img, \"EPD\", (10,48), cv2.FONT_HERSHEY_DUPLEX, 0.4, box_color_EPD)\n",
    "    for _,row in bbx_df[bbx_df.img_name == i].iterrows():\n",
    "        if row['class'] == \"SPD\":\n",
    "            img = cv2.rectangle(img,(row.x1,row.y1),(row.x2,row.y2),box_color_SPD,thic)\n",
    "            img = cv2.putText(img, row['class'], (row.x1,row.y1), cv2.FONT_HERSHEY_DUPLEX, 0.5, (255,255,255))\n",
    "        elif row['class'] == \"ADB\":\n",
    "            img = cv2.rectangle(img,(row.x1,row.y1),(row.x2,row.y2),box_color_ADB,thic)\n",
    "            img = cv2.putText(img, row['class'], (row.x1,row.y1), cv2.FONT_HERSHEY_DUPLEX, 0.5, (255,255,255))\n",
    "        elif row['class'] == \"SS\":\n",
    "            img = cv2.rectangle(img,(row.x1,row.y1),(row.x2,row.y2),box_color_SS,thic)\n",
    "            img = cv2.putText(img, row['class'], (row.x1,row.y1), cv2.FONT_HERSHEY_DUPLEX, 0.5, (255,255,255))\n",
    "        elif row['class'] == \"EPD\":\n",
    "            img = cv2.rectangle(img,(row.x1,row.y1),(row.x2,row.y2),box_color_EPD,thic)\n",
    "            img = cv2.putText(img, row['class'], (row.x1,row.y1), cv2.FONT_HERSHEY_DUPLEX, 0.5, (255,255,255))\n",
    "    cv2.imwrite('results_imgs\\{}'.format(i),img)"
   ]
  },
  {
   "cell_type": "code",
   "execution_count": 1,
   "metadata": {},
   "outputs": [],
   "source": [
    "import os\n",
    "import glob"
   ]
  },
  {
   "cell_type": "code",
   "execution_count": 5,
   "metadata": {},
   "outputs": [],
   "source": [
    "path = './SPD_result'"
   ]
  },
  {
   "cell_type": "code",
   "execution_count": 6,
   "metadata": {},
   "outputs": [],
   "source": [
    "files = glob.glob(path + '/*')\n",
    "for f in files:\n",
    "    os.remove(f)"
   ]
  },
  {
   "cell_type": "code",
   "execution_count": 7,
   "metadata": {},
   "outputs": [],
   "source": [
    "sve_loc_list = ['./SPD_result/','./SS_result/','./EPD_result/','./ADB_result/']"
   ]
  },
  {
   "cell_type": "code",
   "execution_count": 11,
   "metadata": {},
   "outputs": [
    {
     "name": "stdout",
     "output_type": "stream",
     "text": [
      "\n",
      "./SPD_result/\n",
      "\n",
      "./SS_result/\n",
      "\n",
      "./EPD_result/\n",
      "\n",
      "./ADB_result/\n",
      "\n",
      "./results_imgs/\n"
     ]
    }
   ],
   "source": [
    "for r in sve_loc_list+['./results_imgs/']:\n",
    "    print()\n",
    "    print(r)"
   ]
  },
  {
   "cell_type": "code",
   "execution_count": 10,
   "metadata": {},
   "outputs": [
    {
     "data": {
      "text/plain": [
       "['./SPD_result/', './SS_result/', './EPD_result/', './ADB_result/']"
      ]
     },
     "execution_count": 10,
     "metadata": {},
     "output_type": "execute_result"
    }
   ],
   "source": [
    "sve_loc_list"
   ]
  },
  {
   "cell_type": "code",
   "execution_count": null,
   "metadata": {},
   "outputs": [],
   "source": []
  }
 ],
 "metadata": {
  "kernelspec": {
   "display_name": "Python 3",
   "language": "python",
   "name": "python3"
  },
  "language_info": {
   "codemirror_mode": {
    "name": "ipython",
    "version": 3
   },
   "file_extension": ".py",
   "mimetype": "text/x-python",
   "name": "python",
   "nbconvert_exporter": "python",
   "pygments_lexer": "ipython3",
   "version": "3.7.7"
  }
 },
 "nbformat": 4,
 "nbformat_minor": 4
}
